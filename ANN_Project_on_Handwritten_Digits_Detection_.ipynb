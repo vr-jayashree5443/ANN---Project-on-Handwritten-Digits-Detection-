{
  "nbformat": 4,
  "nbformat_minor": 0,
  "metadata": {
    "colab": {
      "provenance": [],
      "gpuType": "T4"
    },
    "kernelspec": {
      "name": "python3",
      "display_name": "Python 3"
    },
    "language_info": {
      "name": "python"
    },
    "accelerator": "GPU"
  },
  "cells": [
    {
      "cell_type": "markdown",
      "source": [
        "# Libraries\n",
        "Theano: https://pypi.org/project/Theano/\n",
        "\n",
        "Keras: https://keras.io/\n",
        "\n",
        "Tensorflow: https://www.tensorflow.org/\n",
        "\n",
        "Pytorch: https://pytorch.org/\n"
      ],
      "metadata": {
        "id": "2PsNbXuN4OPg"
      }
    },
    {
      "cell_type": "markdown",
      "source": [
        "# Importing libraries"
      ],
      "metadata": {
        "id": "rcbsupxd65ja"
      }
    },
    {
      "cell_type": "code",
      "execution_count": null,
      "metadata": {
        "id": "5z1ii8jgslvH"
      },
      "outputs": [],
      "source": [
        "import tensorflow as tf\n",
        "from tensorflow import keras\n",
        "import numpy as np\n",
        "import matplotlib.pyplot as plt\n",
        "import seaborn as sns"
      ]
    },
    {
      "cell_type": "markdown",
      "source": [
        "#Importing the dataset"
      ],
      "metadata": {
        "id": "SGtGgo1A7lzx"
      }
    },
    {
      "cell_type": "code",
      "source": [
        "data = keras.datasets.mnist"
      ],
      "metadata": {
        "id": "em8Ae2Dh7zeB"
      },
      "execution_count": null,
      "outputs": []
    },
    {
      "cell_type": "code",
      "source": [
        "data"
      ],
      "metadata": {
        "colab": {
          "base_uri": "https://localhost:8080/"
        },
        "id": "HFrNAWz872K4",
        "outputId": "c1f7b89c-ef5c-44d9-88da-ab5ae05c304c"
      },
      "execution_count": null,
      "outputs": [
        {
          "output_type": "execute_result",
          "data": {
            "text/plain": [
              "<module 'keras.api._v2.keras.datasets.mnist' from '/usr/local/lib/python3.10/dist-packages/keras/api/_v2/keras/datasets/mnist/__init__.py'>"
            ]
          },
          "metadata": {},
          "execution_count": 3
        }
      ]
    },
    {
      "cell_type": "code",
      "source": [
        "(X_train, y_train), (X_test, y_test) = data.load_data()"
      ],
      "metadata": {
        "id": "vdwu4tsP7300",
        "colab": {
          "base_uri": "https://localhost:8080/"
        },
        "outputId": "bf548dee-049c-4ae7-9fb4-6a56a762b35c"
      },
      "execution_count": null,
      "outputs": [
        {
          "output_type": "stream",
          "name": "stdout",
          "text": [
            "Downloading data from https://storage.googleapis.com/tensorflow/tf-keras-datasets/mnist.npz\n",
            "11490434/11490434 [==============================] - 0s 0us/step\n"
          ]
        }
      ]
    },
    {
      "cell_type": "code",
      "source": [
        "X_train.shape"
      ],
      "metadata": {
        "colab": {
          "base_uri": "https://localhost:8080/"
        },
        "id": "iPvWFmhp8QQd",
        "outputId": "8f6b0122-37d5-45e2-87dd-d56ffb3baa24"
      },
      "execution_count": null,
      "outputs": [
        {
          "output_type": "execute_result",
          "data": {
            "text/plain": [
              "(60000, 28, 28)"
            ]
          },
          "metadata": {},
          "execution_count": 5
        }
      ]
    },
    {
      "cell_type": "code",
      "source": [
        "X_train[0]"
      ],
      "metadata": {
        "colab": {
          "base_uri": "https://localhost:8080/",
          "height": 68
        },
        "id": "HjcmBYoL8Uej",
        "outputId": "2d8f1af1-89c1-47f4-df23-24c895fc0712"
      },
      "execution_count": null,
      "outputs": [
        {
          "output_type": "execute_result",
          "data": {
            "text/plain": [
              "array([[  0,   0,   0,   0,   0,   0,   0,   0,   0,   0,   0,   0,   0,\n",
              "          0,   0,   0,   0,   0,   0,   0,   0,   0,   0,   0,   0,   0,\n",
              "          0,   0],\n",
              "       [  0,   0,   0,   0,   0,   0,   0,   0,   0,   0,   0,   0,   0,\n",
              "          0,   0,   0,   0,   0,   0,   0,   0,   0,   0,   0,   0,   0,\n",
              "          0,   0],\n",
              "       [  0,   0,   0,   0,   0,   0,   0,   0,   0,   0,   0,   0,   0,\n",
              "          0,   0,   0,   0,   0,   0,   0,   0,   0,   0,   0,   0,   0,\n",
              "          0,   0],\n",
              "       [  0,   0,   0,   0,   0,   0,   0,   0,   0,   0,   0,   0,   0,\n",
              "          0,   0,   0,   0,   0,   0,   0,   0,   0,   0,   0,   0,   0,\n",
              "          0,   0],\n",
              "       [  0,   0,   0,   0,   0,   0,   0,   0,   0,   0,   0,   0,   0,\n",
              "          0,   0,   0,   0,   0,   0,   0,   0,   0,   0,   0,   0,   0,\n",
              "          0,   0],\n",
              "       [  0,   0,   0,   0,   0,   0,   0,   0,   0,   0,   0,   0,   3,\n",
              "         18,  18,  18, 126, 136, 175,  26, 166, 255, 247, 127,   0,   0,\n",
              "          0,   0],\n",
              "       [  0,   0,   0,   0,   0,   0,   0,   0,  30,  36,  94, 154, 170,\n",
              "        253, 253, 253, 253, 253, 225, 172, 253, 242, 195,  64,   0,   0,\n",
              "          0,   0],\n",
              "       [  0,   0,   0,   0,   0,   0,   0,  49, 238, 253, 253, 253, 253,\n",
              "        253, 253, 253, 253, 251,  93,  82,  82,  56,  39,   0,   0,   0,\n",
              "          0,   0],\n",
              "       [  0,   0,   0,   0,   0,   0,   0,  18, 219, 253, 253, 253, 253,\n",
              "        253, 198, 182, 247, 241,   0,   0,   0,   0,   0,   0,   0,   0,\n",
              "          0,   0],\n",
              "       [  0,   0,   0,   0,   0,   0,   0,   0,  80, 156, 107, 253, 253,\n",
              "        205,  11,   0,  43, 154,   0,   0,   0,   0,   0,   0,   0,   0,\n",
              "          0,   0],\n",
              "       [  0,   0,   0,   0,   0,   0,   0,   0,   0,  14,   1, 154, 253,\n",
              "         90,   0,   0,   0,   0,   0,   0,   0,   0,   0,   0,   0,   0,\n",
              "          0,   0],\n",
              "       [  0,   0,   0,   0,   0,   0,   0,   0,   0,   0,   0, 139, 253,\n",
              "        190,   2,   0,   0,   0,   0,   0,   0,   0,   0,   0,   0,   0,\n",
              "          0,   0],\n",
              "       [  0,   0,   0,   0,   0,   0,   0,   0,   0,   0,   0,  11, 190,\n",
              "        253,  70,   0,   0,   0,   0,   0,   0,   0,   0,   0,   0,   0,\n",
              "          0,   0],\n",
              "       [  0,   0,   0,   0,   0,   0,   0,   0,   0,   0,   0,   0,  35,\n",
              "        241, 225, 160, 108,   1,   0,   0,   0,   0,   0,   0,   0,   0,\n",
              "          0,   0],\n",
              "       [  0,   0,   0,   0,   0,   0,   0,   0,   0,   0,   0,   0,   0,\n",
              "         81, 240, 253, 253, 119,  25,   0,   0,   0,   0,   0,   0,   0,\n",
              "          0,   0],\n",
              "       [  0,   0,   0,   0,   0,   0,   0,   0,   0,   0,   0,   0,   0,\n",
              "          0,  45, 186, 253, 253, 150,  27,   0,   0,   0,   0,   0,   0,\n",
              "          0,   0],\n",
              "       [  0,   0,   0,   0,   0,   0,   0,   0,   0,   0,   0,   0,   0,\n",
              "          0,   0,  16,  93, 252, 253, 187,   0,   0,   0,   0,   0,   0,\n",
              "          0,   0],\n",
              "       [  0,   0,   0,   0,   0,   0,   0,   0,   0,   0,   0,   0,   0,\n",
              "          0,   0,   0,   0, 249, 253, 249,  64,   0,   0,   0,   0,   0,\n",
              "          0,   0],\n",
              "       [  0,   0,   0,   0,   0,   0,   0,   0,   0,   0,   0,   0,   0,\n",
              "          0,  46, 130, 183, 253, 253, 207,   2,   0,   0,   0,   0,   0,\n",
              "          0,   0],\n",
              "       [  0,   0,   0,   0,   0,   0,   0,   0,   0,   0,   0,   0,  39,\n",
              "        148, 229, 253, 253, 253, 250, 182,   0,   0,   0,   0,   0,   0,\n",
              "          0,   0],\n",
              "       [  0,   0,   0,   0,   0,   0,   0,   0,   0,   0,  24, 114, 221,\n",
              "        253, 253, 253, 253, 201,  78,   0,   0,   0,   0,   0,   0,   0,\n",
              "          0,   0],\n",
              "       [  0,   0,   0,   0,   0,   0,   0,   0,  23,  66, 213, 253, 253,\n",
              "        253, 253, 198,  81,   2,   0,   0,   0,   0,   0,   0,   0,   0,\n",
              "          0,   0],\n",
              "       [  0,   0,   0,   0,   0,   0,  18, 171, 219, 253, 253, 253, 253,\n",
              "        195,  80,   9,   0,   0,   0,   0,   0,   0,   0,   0,   0,   0,\n",
              "          0,   0],\n",
              "       [  0,   0,   0,   0,  55, 172, 226, 253, 253, 253, 253, 244, 133,\n",
              "         11,   0,   0,   0,   0,   0,   0,   0,   0,   0,   0,   0,   0,\n",
              "          0,   0],\n",
              "       [  0,   0,   0,   0, 136, 253, 253, 253, 212, 135, 132,  16,   0,\n",
              "          0,   0,   0,   0,   0,   0,   0,   0,   0,   0,   0,   0,   0,\n",
              "          0,   0],\n",
              "       [  0,   0,   0,   0,   0,   0,   0,   0,   0,   0,   0,   0,   0,\n",
              "          0,   0,   0,   0,   0,   0,   0,   0,   0,   0,   0,   0,   0,\n",
              "          0,   0],\n",
              "       [  0,   0,   0,   0,   0,   0,   0,   0,   0,   0,   0,   0,   0,\n",
              "          0,   0,   0,   0,   0,   0,   0,   0,   0,   0,   0,   0,   0,\n",
              "          0,   0],\n",
              "       [  0,   0,   0,   0,   0,   0,   0,   0,   0,   0,   0,   0,   0,\n",
              "          0,   0,   0,   0,   0,   0,   0,   0,   0,   0,   0,   0,   0,\n",
              "          0,   0]], dtype=uint8)"
            ],
            "text/html": [
              "<style>\n",
              "      .ndarray_repr .ndarray_raw_data {\n",
              "        display: none;\n",
              "      }\n",
              "      .ndarray_repr.show_array .ndarray_raw_data {\n",
              "        display: block;\n",
              "      }\n",
              "      .ndarray_repr.show_array .ndarray_image_preview {\n",
              "        display: none;\n",
              "      }\n",
              "      </style>\n",
              "      <div id=\"id-15d5ad78-50e5-4bfb-8950-37f088f24147\" class=\"ndarray_repr\"><pre>ndarray (28, 28) <button style=\"padding: 0 2px;\">show data</button></pre><img src=\"data:image/png;base64,iVBORw0KGgoAAAANSUhEUgAAABwAAAAcCAAAAABXZoBIAAABAElEQVR4nGNgGMyAWUhIqK5jvdSy/9/rGRgYGFhgEnJsVjYCwQwMDAxPJgV+vniQgYGBgREqZ7iXH8r6l/SV4dn7m8gmCt3++/fv37/Htn3/iMW+gDnZf/+e5WbQnoXNNXyMs/5GoQoxwVmf/n9kSGFiwAW49/11wynJoPzx4YIcRlyygR/+/i2XxCWru+vv32nSuGQFYv/83Y3b4p9/fzpAmSyoMnohpiwM1w5h06Q+5enfv39/bcMiJVF09+/fv39P+mFKiTtd/fv3799jgZiBJLT69t+/f/8eDuDEkDJf8+jv379/v7Ryo4qzMDAwMAQGMjBc3/y35wM2V1IfAABFF16Aa0wAOwAAAABJRU5ErkJggg==\" class=\"ndarray_image_preview\" /><pre class=\"ndarray_raw_data\">array([[  0,   0,   0,   0,   0,   0,   0,   0,   0,   0,   0,   0,   0,\n",
              "          0,   0,   0,   0,   0,   0,   0,   0,   0,   0,   0,   0,   0,\n",
              "          0,   0],\n",
              "       [  0,   0,   0,   0,   0,   0,   0,   0,   0,   0,   0,   0,   0,\n",
              "          0,   0,   0,   0,   0,   0,   0,   0,   0,   0,   0,   0,   0,\n",
              "          0,   0],\n",
              "       [  0,   0,   0,   0,   0,   0,   0,   0,   0,   0,   0,   0,   0,\n",
              "          0,   0,   0,   0,   0,   0,   0,   0,   0,   0,   0,   0,   0,\n",
              "          0,   0],\n",
              "       [  0,   0,   0,   0,   0,   0,   0,   0,   0,   0,   0,   0,   0,\n",
              "          0,   0,   0,   0,   0,   0,   0,   0,   0,   0,   0,   0,   0,\n",
              "          0,   0],\n",
              "       [  0,   0,   0,   0,   0,   0,   0,   0,   0,   0,   0,   0,   0,\n",
              "          0,   0,   0,   0,   0,   0,   0,   0,   0,   0,   0,   0,   0,\n",
              "          0,   0],\n",
              "       [  0,   0,   0,   0,   0,   0,   0,   0,   0,   0,   0,   0,   3,\n",
              "         18,  18,  18, 126, 136, 175,  26, 166, 255, 247, 127,   0,   0,\n",
              "          0,   0],\n",
              "       [  0,   0,   0,   0,   0,   0,   0,   0,  30,  36,  94, 154, 170,\n",
              "        253, 253, 253, 253, 253, 225, 172, 253, 242, 195,  64,   0,   0,\n",
              "          0,   0],\n",
              "       [  0,   0,   0,   0,   0,   0,   0,  49, 238, 253, 253, 253, 253,\n",
              "        253, 253, 253, 253, 251,  93,  82,  82,  56,  39,   0,   0,   0,\n",
              "          0,   0],\n",
              "       [  0,   0,   0,   0,   0,   0,   0,  18, 219, 253, 253, 253, 253,\n",
              "        253, 198, 182, 247, 241,   0,   0,   0,   0,   0,   0,   0,   0,\n",
              "          0,   0],\n",
              "       [  0,   0,   0,   0,   0,   0,   0,   0,  80, 156, 107, 253, 253,\n",
              "        205,  11,   0,  43, 154,   0,   0,   0,   0,   0,   0,   0,   0,\n",
              "          0,   0],\n",
              "       [  0,   0,   0,   0,   0,   0,   0,   0,   0,  14,   1, 154, 253,\n",
              "         90,   0,   0,   0,   0,   0,   0,   0,   0,   0,   0,   0,   0,\n",
              "          0,   0],\n",
              "       [  0,   0,   0,   0,   0,   0,   0,   0,   0,   0,   0, 139, 253,\n",
              "        190,   2,   0,   0,   0,   0,   0,   0,   0,   0,   0,   0,   0,\n",
              "          0,   0],\n",
              "       [  0,   0,   0,   0,   0,   0,   0,   0,   0,   0,   0,  11, 190,\n",
              "        253,  70,   0,   0,   0,   0,   0,   0,   0,   0,   0,   0,   0,\n",
              "          0,   0],\n",
              "       [  0,   0,   0,   0,   0,   0,   0,   0,   0,   0,   0,   0,  35,\n",
              "        241, 225, 160, 108,   1,   0,   0,   0,   0,   0,   0,   0,   0,\n",
              "          0,   0],\n",
              "       [  0,   0,   0,   0,   0,   0,   0,   0,   0,   0,   0,   0,   0,\n",
              "         81, 240, 253, 253, 119,  25,   0,   0,   0,   0,   0,   0,   0,\n",
              "          0,   0],\n",
              "       [  0,   0,   0,   0,   0,   0,   0,   0,   0,   0,   0,   0,   0,\n",
              "          0,  45, 186, 253, 253, 150,  27,   0,   0,   0,   0,   0,   0,\n",
              "          0,   0],\n",
              "       [  0,   0,   0,   0,   0,   0,   0,   0,   0,   0,   0,   0,   0,\n",
              "          0,   0,  16,  93, 252, 253, 187,   0,   0,   0,   0,   0,   0,\n",
              "          0,   0],\n",
              "       [  0,   0,   0,   0,   0,   0,   0,   0,   0,   0,   0,   0,   0,\n",
              "          0,   0,   0,   0, 249, 253, 249,  64,   0,   0,   0,   0,   0,\n",
              "          0,   0],\n",
              "       [  0,   0,   0,   0,   0,   0,   0,   0,   0,   0,   0,   0,   0,\n",
              "          0,  46, 130, 183, 253, 253, 207,   2,   0,   0,   0,   0,   0,\n",
              "          0,   0],\n",
              "       [  0,   0,   0,   0,   0,   0,   0,   0,   0,   0,   0,   0,  39,\n",
              "        148, 229, 253, 253, 253, 250, 182,   0,   0,   0,   0,   0,   0,\n",
              "          0,   0],\n",
              "       [  0,   0,   0,   0,   0,   0,   0,   0,   0,   0,  24, 114, 221,\n",
              "        253, 253, 253, 253, 201,  78,   0,   0,   0,   0,   0,   0,   0,\n",
              "          0,   0],\n",
              "       [  0,   0,   0,   0,   0,   0,   0,   0,  23,  66, 213, 253, 253,\n",
              "        253, 253, 198,  81,   2,   0,   0,   0,   0,   0,   0,   0,   0,\n",
              "          0,   0],\n",
              "       [  0,   0,   0,   0,   0,   0,  18, 171, 219, 253, 253, 253, 253,\n",
              "        195,  80,   9,   0,   0,   0,   0,   0,   0,   0,   0,   0,   0,\n",
              "          0,   0],\n",
              "       [  0,   0,   0,   0,  55, 172, 226, 253, 253, 253, 253, 244, 133,\n",
              "         11,   0,   0,   0,   0,   0,   0,   0,   0,   0,   0,   0,   0,\n",
              "          0,   0],\n",
              "       [  0,   0,   0,   0, 136, 253, 253, 253, 212, 135, 132,  16,   0,\n",
              "          0,   0,   0,   0,   0,   0,   0,   0,   0,   0,   0,   0,   0,\n",
              "          0,   0],\n",
              "       [  0,   0,   0,   0,   0,   0,   0,   0,   0,   0,   0,   0,   0,\n",
              "          0,   0,   0,   0,   0,   0,   0,   0,   0,   0,   0,   0,   0,\n",
              "          0,   0],\n",
              "       [  0,   0,   0,   0,   0,   0,   0,   0,   0,   0,   0,   0,   0,\n",
              "          0,   0,   0,   0,   0,   0,   0,   0,   0,   0,   0,   0,   0,\n",
              "          0,   0],\n",
              "       [  0,   0,   0,   0,   0,   0,   0,   0,   0,   0,   0,   0,   0,\n",
              "          0,   0,   0,   0,   0,   0,   0,   0,   0,   0,   0,   0,   0,\n",
              "          0,   0]], dtype=uint8)</pre></div><script>\n",
              "      (() => {\n",
              "      const titles = ['show data', 'hide data'];\n",
              "      let index = 0\n",
              "      document.querySelector('#id-15d5ad78-50e5-4bfb-8950-37f088f24147 button').onclick = (e) => {\n",
              "        document.querySelector('#id-15d5ad78-50e5-4bfb-8950-37f088f24147').classList.toggle('show_array');\n",
              "        index = (++index) % 2;\n",
              "        document.querySelector('#id-15d5ad78-50e5-4bfb-8950-37f088f24147 button').textContent = titles[index];\n",
              "        e.preventDefault();\n",
              "        e.stopPropagation();\n",
              "      }\n",
              "      })();\n",
              "    </script>"
            ]
          },
          "metadata": {},
          "execution_count": 6
        }
      ]
    },
    {
      "cell_type": "code",
      "source": [
        "#1st image, 5th row index\n",
        "X_train[0][5]"
      ],
      "metadata": {
        "colab": {
          "base_uri": "https://localhost:8080/"
        },
        "id": "RKSBVeTM8fiQ",
        "outputId": "82f8870d-21d3-4d09-f673-55b914757828"
      },
      "execution_count": null,
      "outputs": [
        {
          "output_type": "execute_result",
          "data": {
            "text/plain": [
              "array([  0,   0,   0,   0,   0,   0,   0,   0,   0,   0,   0,   0,   3,\n",
              "        18,  18,  18, 126, 136, 175,  26, 166, 255, 247, 127,   0,   0,\n",
              "         0,   0], dtype=uint8)"
            ]
          },
          "metadata": {},
          "execution_count": 7
        }
      ]
    },
    {
      "cell_type": "code",
      "source": [
        "plt.imshow(X_train[0])"
      ],
      "metadata": {
        "colab": {
          "base_uri": "https://localhost:8080/",
          "height": 447
        },
        "id": "QaqfZgDl8wuQ",
        "outputId": "e6b50eb4-c505-4c23-f04b-a0efeb45b1f5"
      },
      "execution_count": null,
      "outputs": [
        {
          "output_type": "execute_result",
          "data": {
            "text/plain": [
              "<matplotlib.image.AxesImage at 0x7a75f79d8c40>"
            ]
          },
          "metadata": {},
          "execution_count": 8
        },
        {
          "output_type": "display_data",
          "data": {
            "text/plain": [
              "<Figure size 640x480 with 1 Axes>"
            ],
            "image/png": "[encoded data removed]"
          },
          "metadata": {}
        }
      ]
    },
    {
      "cell_type": "code",
      "source": [
        "X_test.shape"
      ],
      "metadata": {
        "colab": {
          "base_uri": "https://localhost:8080/"
        },
        "id": "ds9UzK3H82eU",
        "outputId": "e2d0df60-e0ea-479b-b4f4-4ac58bcdcdf4"
      },
      "execution_count": null,
      "outputs": [
        {
          "output_type": "execute_result",
          "data": {
            "text/plain": [
              "(10000, 28, 28)"
            ]
          },
          "metadata": {},
          "execution_count": 9
        }
      ]
    },
    {
      "cell_type": "code",
      "source": [
        "#60000 classified output\n",
        "y_train.shape"
      ],
      "metadata": {
        "colab": {
          "base_uri": "https://localhost:8080/"
        },
        "id": "d0EEUPt99oAp",
        "outputId": "b02b5932-6e61-4e63-fea3-9b446d079ccc"
      },
      "execution_count": null,
      "outputs": [
        {
          "output_type": "execute_result",
          "data": {
            "text/plain": [
              "(60000,)"
            ]
          },
          "metadata": {},
          "execution_count": 10
        }
      ]
    },
    {
      "cell_type": "code",
      "source": [
        "X_train=X_train/255\n",
        "X_test=X_test/255"
      ],
      "metadata": {
        "id": "eSC2ySG8-n84"
      },
      "execution_count": null,
      "outputs": []
    },
    {
      "cell_type": "code",
      "source": [
        "#flat_X_train# Flatten the X_train & X_test\n",
        "#flat_X_train=dataset.reshape(no of images, desired shape)\n",
        "#img=datasimgt.reshape( desired shape)\n",
        "flat_X_train=X_train.reshape(len(X_train), 28*28)\n",
        "flat_X_test=X_test.reshape(len(X_test), 28*28)"
      ],
      "metadata": {
        "id": "6FlRbdyz9vYR"
      },
      "execution_count": null,
      "outputs": []
    },
    {
      "cell_type": "code",
      "source": [
        "len(X_train)"
      ],
      "metadata": {
        "colab": {
          "base_uri": "https://localhost:8080/"
        },
        "id": "L9EdXjLu-Lk8",
        "outputId": "dad3e912-96ef-435f-b759-85e0271bb97f"
      },
      "execution_count": null,
      "outputs": [
        {
          "output_type": "execute_result",
          "data": {
            "text/plain": [
              "60000"
            ]
          },
          "metadata": {},
          "execution_count": 14
        }
      ]
    },
    {
      "cell_type": "code",
      "source": [
        "flat_X_train.shape"
      ],
      "metadata": {
        "colab": {
          "base_uri": "https://localhost:8080/"
        },
        "id": "8514Koso-MEa",
        "outputId": "43d14968-9c9e-438a-f406-53f7492a9817"
      },
      "execution_count": null,
      "outputs": [
        {
          "output_type": "execute_result",
          "data": {
            "text/plain": [
              "(60000, 784)"
            ]
          },
          "metadata": {},
          "execution_count": 15
        }
      ]
    },
    {
      "cell_type": "code",
      "source": [
        "flat_X_train[0]\n",
        "#Became 1D array"
      ],
      "metadata": {
        "colab": {
          "base_uri": "https://localhost:8080/"
        },
        "id": "f8sjrp7p-r4B",
        "outputId": "ec90b6e3-d807-4c83-c2f3-085eb06c80ec"
      },
      "execution_count": null,
      "outputs": [
        {
          "output_type": "execute_result",
          "data": {
            "text/plain": [
              "array([0.        , 0.        , 0.        , 0.        , 0.        ,\n",
              "       0.        , 0.        , 0.        , 0.        , 0.        ,\n",
              "       0.        , 0.        , 0.        , 0.        , 0.        ,\n",
              "       0.        , 0.        , 0.        , 0.        , 0.        ,\n",
              "       0.        , 0.        , 0.        , 0.        , 0.        ,\n",
              "       0.        , 0.        , 0.        , 0.        , 0.        ,\n",
              "       0.        , 0.        , 0.        , 0.        , 0.        ,\n",
              "       0.        , 0.        , 0.        , 0.        , 0.        ,\n",
              "       0.        , 0.        , 0.        , 0.        , 0.        ,\n",
              "       0.        , 0.        , 0.        , 0.        , 0.        ,\n",
              "       0.        , 0.        , 0.        , 0.        , 0.        ,\n",
              "       0.        , 0.        , 0.        , 0.        , 0.        ,\n",
              "       0.        , 0.        , 0.        , 0.        , 0.        ,\n",
              "       0.        , 0.        , 0.        , 0.        , 0.        ,\n",
              "       0.        , 0.        , 0.        , 0.        , 0.        ,\n",
              "       0.        , 0.        , 0.        , 0.        , 0.        ,\n",
              "       0.        , 0.        , 0.        , 0.        , 0.        ,\n",
              "       0.        , 0.        , 0.        , 0.        , 0.        ,\n",
              "       0.        , 0.        , 0.        , 0.        , 0.        ,\n",
              "       0.        , 0.        , 0.        , 0.        , 0.        ,\n",
              "       0.        , 0.        , 0.        , 0.        , 0.        ,\n",
              "       0.        , 0.        , 0.        , 0.        , 0.        ,\n",
              "       0.        , 0.        , 0.        , 0.        , 0.        ,\n",
              "       0.        , 0.        , 0.        , 0.        , 0.        ,\n",
              "       0.        , 0.        , 0.        , 0.        , 0.        ,\n",
              "       0.        , 0.        , 0.        , 0.        , 0.        ,\n",
              "       0.        , 0.        , 0.        , 0.        , 0.        ,\n",
              "       0.        , 0.        , 0.        , 0.        , 0.        ,\n",
              "       0.        , 0.        , 0.        , 0.        , 0.        ,\n",
              "       0.        , 0.        , 0.        , 0.        , 0.        ,\n",
              "       0.        , 0.        , 0.01176471, 0.07058824, 0.07058824,\n",
              "       0.07058824, 0.49411765, 0.53333333, 0.68627451, 0.10196078,\n",
              "       0.65098039, 1.        , 0.96862745, 0.49803922, 0.        ,\n",
              "       0.        , 0.        , 0.        , 0.        , 0.        ,\n",
              "       0.        , 0.        , 0.        , 0.        , 0.        ,\n",
              "       0.        , 0.11764706, 0.14117647, 0.36862745, 0.60392157,\n",
              "       0.66666667, 0.99215686, 0.99215686, 0.99215686, 0.99215686,\n",
              "       0.99215686, 0.88235294, 0.6745098 , 0.99215686, 0.94901961,\n",
              "       0.76470588, 0.25098039, 0.        , 0.        , 0.        ,\n",
              "       0.        , 0.        , 0.        , 0.        , 0.        ,\n",
              "       0.        , 0.        , 0.        , 0.19215686, 0.93333333,\n",
              "       0.99215686, 0.99215686, 0.99215686, 0.99215686, 0.99215686,\n",
              "       0.99215686, 0.99215686, 0.99215686, 0.98431373, 0.36470588,\n",
              "       0.32156863, 0.32156863, 0.21960784, 0.15294118, 0.        ,\n",
              "       0.        , 0.        , 0.        , 0.        , 0.        ,\n",
              "       0.        , 0.        , 0.        , 0.        , 0.        ,\n",
              "       0.        , 0.07058824, 0.85882353, 0.99215686, 0.99215686,\n",
              "       0.99215686, 0.99215686, 0.99215686, 0.77647059, 0.71372549,\n",
              "       0.96862745, 0.94509804, 0.        , 0.        , 0.        ,\n",
              "       0.        , 0.        , 0.        , 0.        , 0.        ,\n",
              "       0.        , 0.        , 0.        , 0.        , 0.        ,\n",
              "       0.        , 0.        , 0.        , 0.        , 0.        ,\n",
              "       0.31372549, 0.61176471, 0.41960784, 0.99215686, 0.99215686,\n",
              "       0.80392157, 0.04313725, 0.        , 0.16862745, 0.60392157,\n",
              "       0.        , 0.        , 0.        , 0.        , 0.        ,\n",
              "       0.        , 0.        , 0.        , 0.        , 0.        ,\n",
              "       0.        , 0.        , 0.        , 0.        , 0.        ,\n",
              "       0.        , 0.        , 0.        , 0.        , 0.05490196,\n",
              "       0.00392157, 0.60392157, 0.99215686, 0.35294118, 0.        ,\n",
              "       0.        , 0.        , 0.        , 0.        , 0.        ,\n",
              "       0.        , 0.        , 0.        , 0.        , 0.        ,\n",
              "       0.        , 0.        , 0.        , 0.        , 0.        ,\n",
              "       0.        , 0.        , 0.        , 0.        , 0.        ,\n",
              "       0.        , 0.        , 0.        , 0.        , 0.54509804,\n",
              "       0.99215686, 0.74509804, 0.00784314, 0.        , 0.        ,\n",
              "       0.        , 0.        , 0.        , 0.        , 0.        ,\n",
              "       0.        , 0.        , 0.        , 0.        , 0.        ,\n",
              "       0.        , 0.        , 0.        , 0.        , 0.        ,\n",
              "       0.        , 0.        , 0.        , 0.        , 0.        ,\n",
              "       0.        , 0.        , 0.04313725, 0.74509804, 0.99215686,\n",
              "       0.2745098 , 0.        , 0.        , 0.        , 0.        ,\n",
              "       0.        , 0.        , 0.        , 0.        , 0.        ,\n",
              "       0.        , 0.        , 0.        , 0.        , 0.        ,\n",
              "       0.        , 0.        , 0.        , 0.        , 0.        ,\n",
              "       0.        , 0.        , 0.        , 0.        , 0.        ,\n",
              "       0.        , 0.1372549 , 0.94509804, 0.88235294, 0.62745098,\n",
              "       0.42352941, 0.00392157, 0.        , 0.        , 0.        ,\n",
              "       0.        , 0.        , 0.        , 0.        , 0.        ,\n",
              "       0.        , 0.        , 0.        , 0.        , 0.        ,\n",
              "       0.        , 0.        , 0.        , 0.        , 0.        ,\n",
              "       0.        , 0.        , 0.        , 0.        , 0.        ,\n",
              "       0.31764706, 0.94117647, 0.99215686, 0.99215686, 0.46666667,\n",
              "       0.09803922, 0.        , 0.        , 0.        , 0.        ,\n",
              "       0.        , 0.        , 0.        , 0.        , 0.        ,\n",
              "       0.        , 0.        , 0.        , 0.        , 0.        ,\n",
              "       0.        , 0.        , 0.        , 0.        , 0.        ,\n",
              "       0.        , 0.        , 0.        , 0.        , 0.17647059,\n",
              "       0.72941176, 0.99215686, 0.99215686, 0.58823529, 0.10588235,\n",
              "       0.        , 0.        , 0.        , 0.        , 0.        ,\n",
              "       0.        , 0.        , 0.        , 0.        , 0.        ,\n",
              "       0.        , 0.        , 0.        , 0.        , 0.        ,\n",
              "       0.        , 0.        , 0.        , 0.        , 0.        ,\n",
              "       0.        , 0.        , 0.        , 0.0627451 , 0.36470588,\n",
              "       0.98823529, 0.99215686, 0.73333333, 0.        , 0.        ,\n",
              "       0.        , 0.        , 0.        , 0.        , 0.        ,\n",
              "       0.        , 0.        , 0.        , 0.        , 0.        ,\n",
              "       0.        , 0.        , 0.        , 0.        , 0.        ,\n",
              "       0.        , 0.        , 0.        , 0.        , 0.        ,\n",
              "       0.        , 0.        , 0.        , 0.97647059, 0.99215686,\n",
              "       0.97647059, 0.25098039, 0.        , 0.        , 0.        ,\n",
              "       0.        , 0.        , 0.        , 0.        , 0.        ,\n",
              "       0.        , 0.        , 0.        , 0.        , 0.        ,\n",
              "       0.        , 0.        , 0.        , 0.        , 0.        ,\n",
              "       0.        , 0.        , 0.        , 0.18039216, 0.50980392,\n",
              "       0.71764706, 0.99215686, 0.99215686, 0.81176471, 0.00784314,\n",
              "       0.        , 0.        , 0.        , 0.        , 0.        ,\n",
              "       0.        , 0.        , 0.        , 0.        , 0.        ,\n",
              "       0.        , 0.        , 0.        , 0.        , 0.        ,\n",
              "       0.        , 0.        , 0.        , 0.        , 0.15294118,\n",
              "       0.58039216, 0.89803922, 0.99215686, 0.99215686, 0.99215686,\n",
              "       0.98039216, 0.71372549, 0.        , 0.        , 0.        ,\n",
              "       0.        , 0.        , 0.        , 0.        , 0.        ,\n",
              "       0.        , 0.        , 0.        , 0.        , 0.        ,\n",
              "       0.        , 0.        , 0.        , 0.        , 0.        ,\n",
              "       0.09411765, 0.44705882, 0.86666667, 0.99215686, 0.99215686,\n",
              "       0.99215686, 0.99215686, 0.78823529, 0.30588235, 0.        ,\n",
              "       0.        , 0.        , 0.        , 0.        , 0.        ,\n",
              "       0.        , 0.        , 0.        , 0.        , 0.        ,\n",
              "       0.        , 0.        , 0.        , 0.        , 0.        ,\n",
              "       0.        , 0.09019608, 0.25882353, 0.83529412, 0.99215686,\n",
              "       0.99215686, 0.99215686, 0.99215686, 0.77647059, 0.31764706,\n",
              "       0.00784314, 0.        , 0.        , 0.        , 0.        ,\n",
              "       0.        , 0.        , 0.        , 0.        , 0.        ,\n",
              "       0.        , 0.        , 0.        , 0.        , 0.        ,\n",
              "       0.        , 0.        , 0.07058824, 0.67058824, 0.85882353,\n",
              "       0.99215686, 0.99215686, 0.99215686, 0.99215686, 0.76470588,\n",
              "       0.31372549, 0.03529412, 0.        , 0.        , 0.        ,\n",
              "       0.        , 0.        , 0.        , 0.        , 0.        ,\n",
              "       0.        , 0.        , 0.        , 0.        , 0.        ,\n",
              "       0.        , 0.        , 0.        , 0.21568627, 0.6745098 ,\n",
              "       0.88627451, 0.99215686, 0.99215686, 0.99215686, 0.99215686,\n",
              "       0.95686275, 0.52156863, 0.04313725, 0.        , 0.        ,\n",
              "       0.        , 0.        , 0.        , 0.        , 0.        ,\n",
              "       0.        , 0.        , 0.        , 0.        , 0.        ,\n",
              "       0.        , 0.        , 0.        , 0.        , 0.        ,\n",
              "       0.        , 0.53333333, 0.99215686, 0.99215686, 0.99215686,\n",
              "       0.83137255, 0.52941176, 0.51764706, 0.0627451 , 0.        ,\n",
              "       0.        , 0.        , 0.        , 0.        , 0.        ,\n",
              "       0.        , 0.        , 0.        , 0.        , 0.        ,\n",
              "       0.        , 0.        , 0.        , 0.        , 0.        ,\n",
              "       0.        , 0.        , 0.        , 0.        , 0.        ,\n",
              "       0.        , 0.        , 0.        , 0.        , 0.        ,\n",
              "       0.        , 0.        , 0.        , 0.        , 0.        ,\n",
              "       0.        , 0.        , 0.        , 0.        , 0.        ,\n",
              "       0.        , 0.        , 0.        , 0.        , 0.        ,\n",
              "       0.        , 0.        , 0.        , 0.        , 0.        ,\n",
              "       0.        , 0.        , 0.        , 0.        , 0.        ,\n",
              "       0.        , 0.        , 0.        , 0.        , 0.        ,\n",
              "       0.        , 0.        , 0.        , 0.        , 0.        ,\n",
              "       0.        , 0.        , 0.        , 0.        , 0.        ,\n",
              "       0.        , 0.        , 0.        , 0.        , 0.        ,\n",
              "       0.        , 0.        , 0.        , 0.        , 0.        ,\n",
              "       0.        , 0.        , 0.        , 0.        , 0.        ,\n",
              "       0.        , 0.        , 0.        , 0.        , 0.        ,\n",
              "       0.        , 0.        , 0.        , 0.        , 0.        ,\n",
              "       0.        , 0.        , 0.        , 0.        , 0.        ,\n",
              "       0.        , 0.        , 0.        , 0.        ])"
            ]
          },
          "metadata": {},
          "execution_count": 16
        }
      ]
    },
    {
      "cell_type": "code",
      "source": [
        "X_train.ndim\n",
        "# 2D--> image\n",
        "#3rd D--> no of images"
      ],
      "metadata": {
        "colab": {
          "base_uri": "https://localhost:8080/"
        },
        "id": "qBk2Oj3U_p6E",
        "outputId": "5842607b-0a44-409e-bed7-dbe572ce7c37"
      },
      "execution_count": null,
      "outputs": [
        {
          "output_type": "execute_result",
          "data": {
            "text/plain": [
              "3"
            ]
          },
          "metadata": {},
          "execution_count": 17
        }
      ]
    },
    {
      "cell_type": "code",
      "source": [
        "X_train[0].ndim"
      ],
      "metadata": {
        "colab": {
          "base_uri": "https://localhost:8080/"
        },
        "id": "-Fn6x1vi-6nI",
        "outputId": "bcdbd190-c267-4b3b-ba47-a0a2858bac66"
      },
      "execution_count": null,
      "outputs": [
        {
          "output_type": "execute_result",
          "data": {
            "text/plain": [
              "2"
            ]
          },
          "metadata": {},
          "execution_count": 18
        }
      ]
    },
    {
      "cell_type": "code",
      "source": [
        "flat_X_train[0].ndim"
      ],
      "metadata": {
        "colab": {
          "base_uri": "https://localhost:8080/"
        },
        "id": "YJQG3n_v_VS9",
        "outputId": "78ed4ff5-d35d-4991-9438-014ffff7a24e"
      },
      "execution_count": null,
      "outputs": [
        {
          "output_type": "execute_result",
          "data": {
            "text/plain": [
              "1"
            ]
          },
          "metadata": {},
          "execution_count": 19
        }
      ]
    },
    {
      "cell_type": "code",
      "source": [
        "flat_X_train.ndim\n",
        "# 1D--> flattened image\n",
        "#2nd D--> no of images"
      ],
      "metadata": {
        "colab": {
          "base_uri": "https://localhost:8080/"
        },
        "id": "HYqkP9F4_flO",
        "outputId": "bb5d6589-c10f-444c-877d-f7d3c576646c"
      },
      "execution_count": null,
      "outputs": [
        {
          "output_type": "execute_result",
          "data": {
            "text/plain": [
              "2"
            ]
          },
          "metadata": {},
          "execution_count": 20
        }
      ]
    },
    {
      "cell_type": "markdown",
      "source": [
        "https://keras.io/api/models/sequential/"
      ],
      "metadata": {
        "id": "5L42dZITD5JN"
      }
    },
    {
      "cell_type": "code",
      "source": [
        "model= keras.Sequential([\n",
        "    keras.layers.Dense(units= 100, input_shape=(784, ),activation='sigmoid'),\n",
        "    keras.layers.Dense(units= 100, activation='sigmoid')\n",
        "\n",
        "])"
      ],
      "metadata": {
        "id": "NGCzJTBJ_9nG"
      },
      "execution_count": null,
      "outputs": []
    },
    {
      "cell_type": "code",
      "source": [
        "model.compile(optimizer='adam',\n",
        "              loss='sparse_categorical_crossentropy',\n",
        "              metrics=['accuracy'])"
      ],
      "metadata": {
        "id": "jw1cqw1nU5d5"
      },
      "execution_count": null,
      "outputs": []
    },
    {
      "cell_type": "code",
      "source": [
        "model.fit(flat_X_train, y_train, epochs=5)"
      ],
      "metadata": {
        "colab": {
          "base_uri": "https://localhost:8080/"
        },
        "id": "EDOpxHIGVRMN",
        "outputId": "13e0abea-37ce-4157-d304-71687abe0122"
      },
      "execution_count": null,
      "outputs": [
        {
          "output_type": "stream",
          "name": "stdout",
          "text": [
            "Epoch 1/5\n",
            "1875/1875 [==============================] - 10s 5ms/step - loss: 0.4849 - accuracy: 0.8833\n",
            "Epoch 2/5\n",
            "1875/1875 [==============================] - 12s 7ms/step - loss: 0.2057 - accuracy: 0.9408\n",
            "Epoch 3/5\n",
            "1875/1875 [==============================] - 14s 7ms/step - loss: 0.1553 - accuracy: 0.9551\n",
            "Epoch 4/5\n",
            "1875/1875 [==============================] - 12s 6ms/step - loss: 0.1229 - accuracy: 0.9645\n",
            "Epoch 5/5\n",
            "1875/1875 [==============================] - 13s 7ms/step - loss: 0.1013 - accuracy: 0.9714\n"
          ]
        },
        {
          "output_type": "execute_result",
          "data": {
            "text/plain": [
              "<keras.callbacks.History at 0x7a75d1cff6d0>"
            ]
          },
          "metadata": {},
          "execution_count": 24
        }
      ]
    },
    {
      "cell_type": "code",
      "source": [
        "model.evaluate(flat_X_test, y_test)"
      ],
      "metadata": {
        "colab": {
          "base_uri": "https://localhost:8080/"
        },
        "id": "HCjSeO-wVfh8",
        "outputId": "44fec2a3-e9cb-4e75-f467-33682d34bb35"
      },
      "execution_count": null,
      "outputs": [
        {
          "output_type": "stream",
          "name": "stdout",
          "text": [
            "313/313 [==============================] - 1s 2ms/step - loss: 0.1070 - accuracy: 0.9684\n"
          ]
        },
        {
          "output_type": "execute_result",
          "data": {
            "text/plain": [
              "[0.10699763149023056, 0.9684000015258789]"
            ]
          },
          "metadata": {},
          "execution_count": 25
        }
      ]
    },
    {
      "cell_type": "code",
      "source": [
        "y_pred=model.predict(flat_X_test)"
      ],
      "metadata": {
        "colab": {
          "base_uri": "https://localhost:8080/"
        },
        "id": "cimSaSntVoN_",
        "outputId": "6a22dec2-c382-4002-c43c-a70a30a29b4d"
      },
      "execution_count": null,
      "outputs": [
        {
          "output_type": "stream",
          "name": "stdout",
          "text": [
            "313/313 [==============================] - 1s 3ms/step\n"
          ]
        }
      ]
    },
    {
      "cell_type": "code",
      "source": [
        "y_pred_label=[np.argmax(i) for i in y_pred]"
      ],
      "metadata": {
        "id": "UTGhgOViVx9Q"
      },
      "execution_count": null,
      "outputs": []
    },
    {
      "cell_type": "code",
      "source": [
        "y_pred_label"
      ],
      "metadata": {
        "colab": {
          "base_uri": "https://localhost:8080/"
        },
        "id": "cXcly1zrV_rO",
        "outputId": "f4523fce-fbd1-43bb-85cb-b13a8817d65f"
      },
      "execution_count": null,
      "outputs": [
        {
          "output_type": "execute_result",
          "data": {
            "text/plain": [
              "[7,\n",
              " 2,\n",
              " 1,\n",
              " 0,\n",
              " 4,\n",
              " 1,\n",
              " 4,\n",
              " 9,\n",
              " 6,\n",
              " 9,\n",
              " 0,\n",
              " 6,\n",
              " 9,\n",
              " 0,\n",
              " 1,\n",
              " 5,\n",
              " 9,\n",
              " 7,\n",
              " 3,\n",
              " 4,\n",
              " 9,\n",
              " 6,\n",
              " 6,\n",
              " 5,\n",
              " 4,\n",
              " 0,\n",
              " 7,\n",
              " 4,\n",
              " 0,\n",
              " 1,\n",
              " 3,\n",
              " 1,\n",
              " 3,\n",
              " 4,\n",
              " 7,\n",
              " 2,\n",
              " 7,\n",
              " 1,\n",
              " 2,\n",
              " 1,\n",
              " 1,\n",
              " 7,\n",
              " 4,\n",
              " 2,\n",
              " 3,\n",
              " 5,\n",
              " 1,\n",
              " 2,\n",
              " 4,\n",
              " 4,\n",
              " 6,\n",
              " 3,\n",
              " 5,\n",
              " 5,\n",
              " 6,\n",
              " 0,\n",
              " 4,\n",
              " 1,\n",
              " 9,\n",
              " 5,\n",
              " 7,\n",
              " 8,\n",
              " 9,\n",
              " 3,\n",
              " 7,\n",
              " 4,\n",
              " 6,\n",
              " 4,\n",
              " 3,\n",
              " 0,\n",
              " 7,\n",
              " 0,\n",
              " 2,\n",
              " 9,\n",
              " 1,\n",
              " 7,\n",
              " 3,\n",
              " 2,\n",
              " 9,\n",
              " 7,\n",
              " 7,\n",
              " 6,\n",
              " 2,\n",
              " 7,\n",
              " 8,\n",
              " 4,\n",
              " 7,\n",
              " 3,\n",
              " 6,\n",
              " 1,\n",
              " 3,\n",
              " 6,\n",
              " 9,\n",
              " 3,\n",
              " 1,\n",
              " 4,\n",
              " 1,\n",
              " 7,\n",
              " 6,\n",
              " 9,\n",
              " 6,\n",
              " 0,\n",
              " 5,\n",
              " 4,\n",
              " 9,\n",
              " 9,\n",
              " 2,\n",
              " 1,\n",
              " 9,\n",
              " 4,\n",
              " 8,\n",
              " 7,\n",
              " 3,\n",
              " 9,\n",
              " 7,\n",
              " 4,\n",
              " 4,\n",
              " 4,\n",
              " 9,\n",
              " 2,\n",
              " 5,\n",
              " 4,\n",
              " 7,\n",
              " 6,\n",
              " 7,\n",
              " 9,\n",
              " 0,\n",
              " 5,\n",
              " 8,\n",
              " 5,\n",
              " 6,\n",
              " 6,\n",
              " 5,\n",
              " 7,\n",
              " 8,\n",
              " 1,\n",
              " 0,\n",
              " 1,\n",
              " 6,\n",
              " 4,\n",
              " 6,\n",
              " 7,\n",
              " 3,\n",
              " 1,\n",
              " 7,\n",
              " 1,\n",
              " 8,\n",
              " 2,\n",
              " 0,\n",
              " 9,\n",
              " 9,\n",
              " 9,\n",
              " 5,\n",
              " 5,\n",
              " 1,\n",
              " 5,\n",
              " 6,\n",
              " 0,\n",
              " 3,\n",
              " 4,\n",
              " 4,\n",
              " 6,\n",
              " 5,\n",
              " 4,\n",
              " 6,\n",
              " 5,\n",
              " 4,\n",
              " 5,\n",
              " 1,\n",
              " 4,\n",
              " 4,\n",
              " 7,\n",
              " 2,\n",
              " 3,\n",
              " 2,\n",
              " 7,\n",
              " 1,\n",
              " 8,\n",
              " 1,\n",
              " 8,\n",
              " 1,\n",
              " 8,\n",
              " 5,\n",
              " 0,\n",
              " 8,\n",
              " 9,\n",
              " 2,\n",
              " 5,\n",
              " 0,\n",
              " 1,\n",
              " 1,\n",
              " 1,\n",
              " 0,\n",
              " 9,\n",
              " 0,\n",
              " 3,\n",
              " 1,\n",
              " 6,\n",
              " 4,\n",
              " 2,\n",
              " 3,\n",
              " 6,\n",
              " 1,\n",
              " 1,\n",
              " 1,\n",
              " 3,\n",
              " 9,\n",
              " 5,\n",
              " 2,\n",
              " 9,\n",
              " 4,\n",
              " 5,\n",
              " 9,\n",
              " 3,\n",
              " 9,\n",
              " 0,\n",
              " 3,\n",
              " 6,\n",
              " 5,\n",
              " 5,\n",
              " 7,\n",
              " 2,\n",
              " 2,\n",
              " 7,\n",
              " 1,\n",
              " 2,\n",
              " 8,\n",
              " 4,\n",
              " 1,\n",
              " 7,\n",
              " 3,\n",
              " 3,\n",
              " 8,\n",
              " 8,\n",
              " 7,\n",
              " 9,\n",
              " 2,\n",
              " 2,\n",
              " 4,\n",
              " 1,\n",
              " 5,\n",
              " 9,\n",
              " 8,\n",
              " 7,\n",
              " 2,\n",
              " 3,\n",
              " 0,\n",
              " 2,\n",
              " 4,\n",
              " 2,\n",
              " 4,\n",
              " 1,\n",
              " 9,\n",
              " 5,\n",
              " 7,\n",
              " 7,\n",
              " 2,\n",
              " 8,\n",
              " 2,\n",
              " 0,\n",
              " 8,\n",
              " 5,\n",
              " 7,\n",
              " 7,\n",
              " 9,\n",
              " 1,\n",
              " 8,\n",
              " 1,\n",
              " 8,\n",
              " 0,\n",
              " 3,\n",
              " 0,\n",
              " 1,\n",
              " 9,\n",
              " 9,\n",
              " 4,\n",
              " 1,\n",
              " 8,\n",
              " 2,\n",
              " 1,\n",
              " 2,\n",
              " 9,\n",
              " 7,\n",
              " 5,\n",
              " 9,\n",
              " 2,\n",
              " 6,\n",
              " 4,\n",
              " 1,\n",
              " 5,\n",
              " 4,\n",
              " 2,\n",
              " 9,\n",
              " 2,\n",
              " 0,\n",
              " 4,\n",
              " 0,\n",
              " 0,\n",
              " 2,\n",
              " 8,\n",
              " 4,\n",
              " 7,\n",
              " 1,\n",
              " 2,\n",
              " 4,\n",
              " 0,\n",
              " 2,\n",
              " 7,\n",
              " 4,\n",
              " 3,\n",
              " 3,\n",
              " 0,\n",
              " 0,\n",
              " 3,\n",
              " 1,\n",
              " 9,\n",
              " 6,\n",
              " 5,\n",
              " 2,\n",
              " 5,\n",
              " 9,\n",
              " 7,\n",
              " 9,\n",
              " 3,\n",
              " 0,\n",
              " 4,\n",
              " 2,\n",
              " 0,\n",
              " 7,\n",
              " 1,\n",
              " 1,\n",
              " 2,\n",
              " 1,\n",
              " 5,\n",
              " 3,\n",
              " 3,\n",
              " 9,\n",
              " 7,\n",
              " 8,\n",
              " 6,\n",
              " 3,\n",
              " 6,\n",
              " 1,\n",
              " 3,\n",
              " 8,\n",
              " 1,\n",
              " 0,\n",
              " 5,\n",
              " 1,\n",
              " 3,\n",
              " 1,\n",
              " 5,\n",
              " 5,\n",
              " 6,\n",
              " 1,\n",
              " 8,\n",
              " 5,\n",
              " 1,\n",
              " 7,\n",
              " 9,\n",
              " 4,\n",
              " 6,\n",
              " 2,\n",
              " 2,\n",
              " 5,\n",
              " 0,\n",
              " 6,\n",
              " 5,\n",
              " 6,\n",
              " 3,\n",
              " 7,\n",
              " 2,\n",
              " 0,\n",
              " 8,\n",
              " 8,\n",
              " 5,\n",
              " 4,\n",
              " 1,\n",
              " 1,\n",
              " 4,\n",
              " 0,\n",
              " 7,\n",
              " 3,\n",
              " 7,\n",
              " 6,\n",
              " 1,\n",
              " 6,\n",
              " 2,\n",
              " 1,\n",
              " 9,\n",
              " 2,\n",
              " 8,\n",
              " 6,\n",
              " 1,\n",
              " 9,\n",
              " 5,\n",
              " 2,\n",
              " 5,\n",
              " 4,\n",
              " 4,\n",
              " 2,\n",
              " 8,\n",
              " 3,\n",
              " 8,\n",
              " 2,\n",
              " 4,\n",
              " 5,\n",
              " 0,\n",
              " 3,\n",
              " 1,\n",
              " 7,\n",
              " 7,\n",
              " 5,\n",
              " 7,\n",
              " 9,\n",
              " 7,\n",
              " 1,\n",
              " 9,\n",
              " 2,\n",
              " 1,\n",
              " 4,\n",
              " 2,\n",
              " 9,\n",
              " 2,\n",
              " 0,\n",
              " 4,\n",
              " 9,\n",
              " 1,\n",
              " 4,\n",
              " 8,\n",
              " 1,\n",
              " 8,\n",
              " 4,\n",
              " 5,\n",
              " 9,\n",
              " 7,\n",
              " 8,\n",
              " 3,\n",
              " 7,\n",
              " 6,\n",
              " 0,\n",
              " 0,\n",
              " 3,\n",
              " 0,\n",
              " 2,\n",
              " 0,\n",
              " 6,\n",
              " 4,\n",
              " 9,\n",
              " 3,\n",
              " 3,\n",
              " 3,\n",
              " 2,\n",
              " 3,\n",
              " 9,\n",
              " 1,\n",
              " 2,\n",
              " 6,\n",
              " 8,\n",
              " 0,\n",
              " 5,\n",
              " 6,\n",
              " 6,\n",
              " 6,\n",
              " 3,\n",
              " 8,\n",
              " 8,\n",
              " 2,\n",
              " 7,\n",
              " 5,\n",
              " 8,\n",
              " 9,\n",
              " 6,\n",
              " 1,\n",
              " 8,\n",
              " 4,\n",
              " 1,\n",
              " 2,\n",
              " 5,\n",
              " 9,\n",
              " 1,\n",
              " 9,\n",
              " 7,\n",
              " 5,\n",
              " 4,\n",
              " 0,\n",
              " 8,\n",
              " 9,\n",
              " 9,\n",
              " 1,\n",
              " 0,\n",
              " 5,\n",
              " 2,\n",
              " 3,\n",
              " 7,\n",
              " 0,\n",
              " 9,\n",
              " 4,\n",
              " 0,\n",
              " 6,\n",
              " 3,\n",
              " 9,\n",
              " 5,\n",
              " 2,\n",
              " 1,\n",
              " 3,\n",
              " 1,\n",
              " 3,\n",
              " 6,\n",
              " 5,\n",
              " 7,\n",
              " 4,\n",
              " 2,\n",
              " 2,\n",
              " 6,\n",
              " 3,\n",
              " 2,\n",
              " 6,\n",
              " 5,\n",
              " 4,\n",
              " 8,\n",
              " 9,\n",
              " 7,\n",
              " 1,\n",
              " 3,\n",
              " 0,\n",
              " 3,\n",
              " 8,\n",
              " 3,\n",
              " 1,\n",
              " 9,\n",
              " 3,\n",
              " 4,\n",
              " 4,\n",
              " 6,\n",
              " 4,\n",
              " 2,\n",
              " 1,\n",
              " 8,\n",
              " 2,\n",
              " 5,\n",
              " 4,\n",
              " 8,\n",
              " 4,\n",
              " 4,\n",
              " 0,\n",
              " 0,\n",
              " 2,\n",
              " 3,\n",
              " 2,\n",
              " 7,\n",
              " 7,\n",
              " 0,\n",
              " 8,\n",
              " 7,\n",
              " 4,\n",
              " 4,\n",
              " 7,\n",
              " 9,\n",
              " 6,\n",
              " 9,\n",
              " 0,\n",
              " 9,\n",
              " 8,\n",
              " 0,\n",
              " 9,\n",
              " 6,\n",
              " 0,\n",
              " 6,\n",
              " 3,\n",
              " 5,\n",
              " 4,\n",
              " 8,\n",
              " 3,\n",
              " 3,\n",
              " 9,\n",
              " 3,\n",
              " 3,\n",
              " 2,\n",
              " 7,\n",
              " 8,\n",
              " 0,\n",
              " 2,\n",
              " 8,\n",
              " 1,\n",
              " 7,\n",
              " 0,\n",
              " 6,\n",
              " 5,\n",
              " 4,\n",
              " 3,\n",
              " 3,\n",
              " 0,\n",
              " 9,\n",
              " 6,\n",
              " 3,\n",
              " 8,\n",
              " 0,\n",
              " 9,\n",
              " 9,\n",
              " 6,\n",
              " 8,\n",
              " 6,\n",
              " 8,\n",
              " 5,\n",
              " 7,\n",
              " 8,\n",
              " 6,\n",
              " 0,\n",
              " 2,\n",
              " 4,\n",
              " 0,\n",
              " 2,\n",
              " 2,\n",
              " 3,\n",
              " 1,\n",
              " 9,\n",
              " 7,\n",
              " 5,\n",
              " 8,\n",
              " 0,\n",
              " 8,\n",
              " 4,\n",
              " 6,\n",
              " 2,\n",
              " 6,\n",
              " 7,\n",
              " 9,\n",
              " 3,\n",
              " 2,\n",
              " 9,\n",
              " 8,\n",
              " 2,\n",
              " 2,\n",
              " 9,\n",
              " 2,\n",
              " 7,\n",
              " 3,\n",
              " 5,\n",
              " 9,\n",
              " 1,\n",
              " 8,\n",
              " 0,\n",
              " 2,\n",
              " 0,\n",
              " 5,\n",
              " 2,\n",
              " 1,\n",
              " 3,\n",
              " 7,\n",
              " 6,\n",
              " 7,\n",
              " 1,\n",
              " 2,\n",
              " 5,\n",
              " 8,\n",
              " 0,\n",
              " 3,\n",
              " 7,\n",
              " 8,\n",
              " 4,\n",
              " 0,\n",
              " 9,\n",
              " 1,\n",
              " 8,\n",
              " 6,\n",
              " 7,\n",
              " 7,\n",
              " 4,\n",
              " 3,\n",
              " 4,\n",
              " 9,\n",
              " 1,\n",
              " 9,\n",
              " 5,\n",
              " 1,\n",
              " 7,\n",
              " 3,\n",
              " 9,\n",
              " 7,\n",
              " 6,\n",
              " 9,\n",
              " 1,\n",
              " 3,\n",
              " 3,\n",
              " 8,\n",
              " 3,\n",
              " 3,\n",
              " 6,\n",
              " 7,\n",
              " 2,\n",
              " 4,\n",
              " 5,\n",
              " 8,\n",
              " 5,\n",
              " 1,\n",
              " 1,\n",
              " 4,\n",
              " 4,\n",
              " 3,\n",
              " 1,\n",
              " 0,\n",
              " 7,\n",
              " 7,\n",
              " 0,\n",
              " 7,\n",
              " 9,\n",
              " 9,\n",
              " 4,\n",
              " 8,\n",
              " 5,\n",
              " 5,\n",
              " 4,\n",
              " 0,\n",
              " 8,\n",
              " 2,\n",
              " 1,\n",
              " 6,\n",
              " 8,\n",
              " 4,\n",
              " 8,\n",
              " 0,\n",
              " 4,\n",
              " 0,\n",
              " 6,\n",
              " 1,\n",
              " 7,\n",
              " 3,\n",
              " 2,\n",
              " 6,\n",
              " 7,\n",
              " 2,\n",
              " 6,\n",
              " 9,\n",
              " 3,\n",
              " 1,\n",
              " 4,\n",
              " 6,\n",
              " 2,\n",
              " 5,\n",
              " 9,\n",
              " 2,\n",
              " 0,\n",
              " 6,\n",
              " 2,\n",
              " 1,\n",
              " 7,\n",
              " 3,\n",
              " 4,\n",
              " 1,\n",
              " 0,\n",
              " 5,\n",
              " 4,\n",
              " 3,\n",
              " 1,\n",
              " 1,\n",
              " 7,\n",
              " 4,\n",
              " 9,\n",
              " 9,\n",
              " 4,\n",
              " 8,\n",
              " 4,\n",
              " 0,\n",
              " 2,\n",
              " 4,\n",
              " 5,\n",
              " 1,\n",
              " 1,\n",
              " 6,\n",
              " 4,\n",
              " 7,\n",
              " 1,\n",
              " 9,\n",
              " 4,\n",
              " 2,\n",
              " 4,\n",
              " 1,\n",
              " 5,\n",
              " 5,\n",
              " 3,\n",
              " 8,\n",
              " 3,\n",
              " 1,\n",
              " 4,\n",
              " 5,\n",
              " 6,\n",
              " 8,\n",
              " 9,\n",
              " 4,\n",
              " 1,\n",
              " 5,\n",
              " 3,\n",
              " 8,\n",
              " 0,\n",
              " 3,\n",
              " 2,\n",
              " 5,\n",
              " 1,\n",
              " 2,\n",
              " 8,\n",
              " 3,\n",
              " 4,\n",
              " 4,\n",
              " 0,\n",
              " 8,\n",
              " 8,\n",
              " 3,\n",
              " 3,\n",
              " 1,\n",
              " 7,\n",
              " 3,\n",
              " 5,\n",
              " 9,\n",
              " 6,\n",
              " 3,\n",
              " 2,\n",
              " 6,\n",
              " 1,\n",
              " 3,\n",
              " 6,\n",
              " 0,\n",
              " 7,\n",
              " 2,\n",
              " 1,\n",
              " 7,\n",
              " 1,\n",
              " 4,\n",
              " 2,\n",
              " 4,\n",
              " 2,\n",
              " 1,\n",
              " 7,\n",
              " 9,\n",
              " 6,\n",
              " 1,\n",
              " 1,\n",
              " 2,\n",
              " 4,\n",
              " 3,\n",
              " 1,\n",
              " 7,\n",
              " 7,\n",
              " 4,\n",
              " 7,\n",
              " 0,\n",
              " 9,\n",
              " 3,\n",
              " 1,\n",
              " 3,\n",
              " 1,\n",
              " 0,\n",
              " 7,\n",
              " 7,\n",
              " 0,\n",
              " 3,\n",
              " 5,\n",
              " 5,\n",
              " 2,\n",
              " 7,\n",
              " 6,\n",
              " 6,\n",
              " 9,\n",
              " 2,\n",
              " 8,\n",
              " 3,\n",
              " 5,\n",
              " 2,\n",
              " 2,\n",
              " 5,\n",
              " 6,\n",
              " 0,\n",
              " 8,\n",
              " 2,\n",
              " 9,\n",
              " 2,\n",
              " 8,\n",
              " 8,\n",
              " 8,\n",
              " 8,\n",
              " 7,\n",
              " 9,\n",
              " 7,\n",
              " 3,\n",
              " 0,\n",
              " 6,\n",
              " 6,\n",
              " 3,\n",
              " 2,\n",
              " 1,\n",
              " 3,\n",
              " 2,\n",
              " 2,\n",
              " 9,\n",
              " 3,\n",
              " 0,\n",
              " 0,\n",
              " 5,\n",
              " 7,\n",
              " 8,\n",
              " 1,\n",
              " 4,\n",
              " 4,\n",
              " 6,\n",
              " 0,\n",
              " 2,\n",
              " 9,\n",
              " 1,\n",
              " 4,\n",
              " 7,\n",
              " 4,\n",
              " 7,\n",
              " 3,\n",
              " 9,\n",
              " 8,\n",
              " 8,\n",
              " 4,\n",
              " 7,\n",
              " 1,\n",
              " 2,\n",
              " 1,\n",
              " 2,\n",
              " 2,\n",
              " 3,\n",
              " 7,\n",
              " 3,\n",
              " 2,\n",
              " 3,\n",
              " 9,\n",
              " 1,\n",
              " 7,\n",
              " 4,\n",
              " 0,\n",
              " 3,\n",
              " 5,\n",
              " 5,\n",
              " 8,\n",
              " 6,\n",
              " 5,\n",
              " 2,\n",
              " 6,\n",
              " 7,\n",
              " 6,\n",
              " 6,\n",
              " 3,\n",
              " 2,\n",
              " 7,\n",
              " 9,\n",
              " 1,\n",
              " 1,\n",
              " 7,\n",
              " 4,\n",
              " 6,\n",
              " 4,\n",
              " 9,\n",
              " 5,\n",
              " 2,\n",
              " 3,\n",
              " 3,\n",
              " 4,\n",
              " 7,\n",
              " 8,\n",
              " 9,\n",
              " 1,\n",
              " 1,\n",
              " 0,\n",
              " 9,\n",
              " 1,\n",
              " 4,\n",
              " 4,\n",
              " 5,\n",
              " 4,\n",
              " 0,\n",
              " 6,\n",
              " 2,\n",
              " 2,\n",
              " 3,\n",
              " 1,\n",
              " 5,\n",
              " 1,\n",
              " 2,\n",
              " 0,\n",
              " 3,\n",
              " 8,\n",
              " 1,\n",
              " 2,\n",
              " 6,\n",
              " 7,\n",
              " 1,\n",
              " 6,\n",
              " 2,\n",
              " 3,\n",
              " 9,\n",
              " 0,\n",
              " 1,\n",
              " 2,\n",
              " 2,\n",
              " 0,\n",
              " 8,\n",
              " 9,\n",
              " ...]"
            ]
          },
          "metadata": {},
          "execution_count": 28
        }
      ]
    },
    {
      "cell_type": "code",
      "source": [
        "cm=tf.math.confusion_matrix(labels=y_test, predictions=y_pred_label)"
      ],
      "metadata": {
        "id": "eE_5A7s8WCyo"
      },
      "execution_count": null,
      "outputs": []
    },
    {
      "cell_type": "code",
      "source": [
        "sns.heatmap(cm, annot=True, fmt='d')"
      ],
      "metadata": {
        "colab": {
          "base_uri": "https://localhost:8080/",
          "height": 447
        },
        "id": "QHCOMBadWSmM",
        "outputId": "a806a1ff-5bcf-4b53-c28b-e9e6f5487901"
      },
      "execution_count": null,
      "outputs": [
        {
          "output_type": "execute_result",
          "data": {
            "text/plain": [
              "<Axes: >"
            ]
          },
          "metadata": {},
          "execution_count": 31
        },
        {
          "output_type": "display_data",
          "data": {
            "text/plain": [
              "<Figure size 640x480 with 2 Axes>"
            ],
            "image/png": "[encoded data removed]"
          },
          "metadata": {}
        }
      ]
    },
    {
      "cell_type": "code",
      "source": [
        "#Export the model\n",
        "import pickle"
      ],
      "metadata": {
        "id": "deoNjpPaWYZZ"
      },
      "execution_count": null,
      "outputs": []
    },
    {
      "cell_type": "code",
      "source": [
        "# create an iterator object with write permission - model.pickle\n",
        "with open('model_pkl', 'wb') as files:\n",
        "    pickle.dump(model, files)"
      ],
      "metadata": {
        "id": "TxZx4SFnXrvx"
      },
      "execution_count": null,
      "outputs": []
    },
    {
      "cell_type": "code",
      "source": [
        "# for loading\n",
        "# # load saved model\n",
        "# with open('model_pkl' , 'rb') as f:\n",
        "#     lr = pickle.load(f)"
      ],
      "metadata": {
        "id": "bFXGeIpmXu4M"
      },
      "execution_count": null,
      "outputs": []
    }
  ]
}